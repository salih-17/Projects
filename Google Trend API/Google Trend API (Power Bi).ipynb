{
 "cells": [
  {
   "cell_type": "markdown",
   "metadata": {},
   "source": [
    "# Introduction\n",
    "\n",
    "[Google trends](https://trends.google.com/trends/?geo=US) is a website that analyzes and lists the popular search results on Google search based on various regions and languages. Google Trends is Google's website (obviously). With the help of this tutorial, you can get the trending results and many more from google trends website using python. You don't need to manually search and copy the trending results, the Python API called `pytrends` does the job for you. Before getting started, I want all of you guys to go through the official documentation of the `pytrends` API."
   ]
  },
  {
   "cell_type": "markdown",
   "metadata": {},
   "source": [
    "# Installation\n",
    "\n",
    "The first step is to install the library manually. So, open your favorite IDE or notebook start typing the following code. I will use [Google Colab](https://colab.research.google.com/) because it's my favorite notebook.\n",
    "\n",
    "\n",
    "\n",
    "> If you are using jupyter notebook, just type the code as it is (make sure you have '!' at the beginning)\n"
   ]
  },
  {
   "cell_type": "code",
   "execution_count": null,
   "metadata": {},
   "outputs": [],
   "source": [
    "!pip install pytrends"
   ]
  },
  {
   "cell_type": "markdown",
   "metadata": {},
   "source": [
    "***Creat First Table (Interest over time)***"
   ]
  },
  {
   "cell_type": "code",
   "execution_count": null,
   "metadata": {},
   "outputs": [],
   "source": [
    "import pandas as pd\n",
    "from pytrends.request import TrendReq\n",
    "\n",
    "pytrend = TrendReq()\n",
    "\n",
    "pytrend.build_payload(kw_list=['فيلم'] , cat = 34 ,geo= 'EG' , timeframe='2021-01-01 2022-01-01')\n",
    "interest_over_time = pd.DataFrame (pytrend.interest_over_time()).reset_index()\n",
    "\n"
   ]
  },
  {
   "cell_type": "markdown",
   "metadata": {},
   "source": [
    "***Create Second Table (Trends by category)***"
   ]
  },
  {
   "cell_type": "code",
   "execution_count": null,
   "metadata": {},
   "outputs": [],
   "source": [
    "\n",
    "import pandas as pd\n",
    "from pytrends.request import TrendReq\n",
    "\n",
    "pytrend = TrendReq()\n",
    "\n",
    "\n",
    "pytrend.build_payload(kw_list=['فيلم'] , cat = 34 ,geo= 'EG' , timeframe='today 12-m')\n",
    "\n",
    "iters = pytrend.related_queries()['فيلم']['rising']['query'].count()\n",
    "query = pytrend.related_queries()['فيلم']['rising']['query']\n",
    "value = pytrend.related_queries()['فيلم']['rising']['value']\n",
    "dim = []\n",
    "\n",
    "for  iterss in range (iters) :\n",
    "    dim.append({\"Key\":query[iterss], \"value\":value[iterss]})\n",
    "    \n",
    "Dataset= pd.DataFrame (dim )"
   ]
  }
 ],
 "metadata": {
  "kernelspec": {
   "display_name": "Python 3",
   "language": "python",
   "name": "python3"
  },
  "language_info": {
   "codemirror_mode": {
    "name": "ipython",
    "version": 3
   },
   "file_extension": ".py",
   "mimetype": "text/x-python",
   "name": "python",
   "nbconvert_exporter": "python",
   "pygments_lexer": "ipython3",
   "version": "3.8.3"
  }
 },
 "nbformat": 4,
 "nbformat_minor": 4
}
